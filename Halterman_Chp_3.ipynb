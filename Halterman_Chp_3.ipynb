{
 "cells": [
  {
   "cell_type": "markdown",
   "metadata": {
    "collapsed": true
   },
   "source": [
    "# Halterman Chapter 3 - Expressions and Arithmetic "
   ]
  },
  {
   "cell_type": "markdown",
   "metadata": {},
   "source": [
    "Listing_3.9: timeconv.py program using arithmetic operators"
   ]
  },
  {
   "cell_type": "code",
   "execution_count": 8,
   "metadata": {},
   "outputs": [
    {
     "name": "stdout",
     "output_type": "stream",
     "text": [
      "Please enter the number of seconds:11045\n",
      "3 hr, 4 min, 5 sec\n"
     ]
    }
   ],
   "source": [
    "# This program converts seconds into hours, minutes, and seconds.\n",
    "\n",
    "# Get the nuber of seconds from the user.\n",
    "seconds = int(input(\"Please enter the number of seconds:\"))\n",
    "# First, compute the number of hours in the given number of seconds.\n",
    "# Note: integer divison with possible truncation of fractional value.\n",
    "hours = seconds // 3600 # 3600 seconds = 1 hour\n",
    "# Compute the remaining seconds after the hours have been accounted for.\n",
    "seconds = seconds % 3600\n",
    "# Next, compute the number of mintues in the remaining number of seconds.\n",
    "minutes = seconds // 60 # 60 seconds = 1 minute.\n",
    "# Compute the remaining seconds after the minutes are accounted for.\n",
    "seconds = seconds % 60\n",
    "# Report the results.\n",
    "print(hours, \"hr,\", minutes, \"min,\", seconds, \"sec\")"
   ]
  },
  {
   "cell_type": "markdown",
   "metadata": {},
   "source": [
    "Listing_3.10: enhancedtimeconv.py"
   ]
  },
  {
   "cell_type": "code",
   "execution_count": 9,
   "metadata": {},
   "outputs": [
    {
     "name": "stdout",
     "output_type": "stream",
     "text": [
      "Please enter the number of seconds:150000002\n",
      "41666:40:02\n"
     ]
    }
   ],
   "source": [
    "# Get the number of seconds from the user.\n",
    "seconds = int(input(\"Please enter the number of seconds:\"))\n",
    "# First, compute the number of hours in the given number of seconds\n",
    "# Note: interger division with possible truncation of fractional value.\n",
    "hours = seconds//3600 # 3600 seconds = 1 hour\n",
    "# Compute the remaining seconds after the hours have been accounted for.\n",
    "seconds = seconds % 3600\n",
    "# Next, compute the number of mintues in the remaining number of seconds.\n",
    "minutes = seconds // 60 # 60 seconds = 1 minute.\n",
    "# Compute the remaining seconds after the minutes are accounted for.\n",
    "seconds = seconds % 60\n",
    "# Report the results.\n",
    "print(hours, \":\", sep=\"\", end=\"\")\n",
    "# compute tens digit of minutes.\n",
    "tens = minutes // 10\n",
    "# Compute ones digit of minutes.\n",
    "ones = minutes % 10\n",
    "print(tens, ones, \":\", sep=\"\", end=\"\")\n",
    "# Compute tens digit of seconds.\n",
    "tens = seconds // 10\n",
    "# Compute ones digit of seconds\n",
    "ones = seconds % 10\n",
    "print(tens, ones, sep=\"\")"
   ]
  },
  {
   "cell_type": "markdown",
   "metadata": {},
   "source": [
    "3.10_Exercises"
   ]
  },
  {
   "cell_type": "code",
   "execution_count": 15,
   "metadata": {},
   "outputs": [
    {
     "name": "stdout",
     "output_type": "stream",
     "text": [
      "3\n"
     ]
    }
   ],
   "source": [
    "# Question: 3.10.6\n",
    "\n",
    "x = 2\n",
    "print(x+1)"
   ]
  },
  {
   "cell_type": "code",
   "execution_count": 34,
   "metadata": {},
   "outputs": [
    {
     "name": "stdout",
     "output_type": "stream",
     "text": [
      "0.8\n"
     ]
    }
   ],
   "source": [
    "# Question: 3.10.7\n",
    "\n",
    "i1 = 2\n",
    "i2 = 5\n",
    "i3 = -3\n",
    "d1 = 2.0\n",
    "d2 = 5.0\n",
    "d3 = -0.5\n",
    "\n",
    "print(d1*i1/i2)"
   ]
  },
  {
   "cell_type": "code",
   "execution_count": 38,
   "metadata": {},
   "outputs": [
    {
     "name": "stdout",
     "output_type": "stream",
     "text": [
      "Please enter a number to cut in half: '100'\n"
     ]
    },
    {
     "ename": "ValueError",
     "evalue": "invalid literal for int() with base 10: \"'100'\"",
     "output_type": "error",
     "traceback": [
      "\u001b[0;31m---------------------------------------------------------------------------\u001b[0m",
      "\u001b[0;31mValueError\u001b[0m                                Traceback (most recent call last)",
      "\u001b[0;32m<ipython-input-38-0f0fe45dea45>\u001b[0m in \u001b[0;36m<module>\u001b[0;34m()\u001b[0m\n\u001b[1;32m      2\u001b[0m \u001b[0;34m\u001b[0m\u001b[0m\n\u001b[1;32m      3\u001b[0m \u001b[0;31m# Get a number from the user.\u001b[0m\u001b[0;34m\u001b[0m\u001b[0;34m\u001b[0m\u001b[0m\n\u001b[0;32m----> 4\u001b[0;31m \u001b[0mvalue\u001b[0m \u001b[0;34m=\u001b[0m \u001b[0mint\u001b[0m\u001b[0;34m(\u001b[0m\u001b[0minput\u001b[0m\u001b[0;34m(\u001b[0m\u001b[0;34m'Please enter a number to cut in half: '\u001b[0m\u001b[0;34m)\u001b[0m\u001b[0;34m)\u001b[0m\u001b[0;34m\u001b[0m\u001b[0m\n\u001b[0m\u001b[1;32m      5\u001b[0m \u001b[0;31m# Report the result\u001b[0m\u001b[0;34m\u001b[0m\u001b[0;34m\u001b[0m\u001b[0m\n\u001b[1;32m      6\u001b[0m \u001b[0mprint\u001b[0m\u001b[0;34m(\u001b[0m\u001b[0mvalue\u001b[0m\u001b[0;34m/\u001b[0m\u001b[0;36m2\u001b[0m\u001b[0;34m)\u001b[0m\u001b[0;34m\u001b[0m\u001b[0m\n",
      "\u001b[0;31mValueError\u001b[0m: invalid literal for int() with base 10: \"'100'\""
     ]
    }
   ],
   "source": [
    "# Question: 3.10.15\n",
    "\n",
    "# Get a number from the user.\n",
    "value = int(input('Please enter a number to cut in half: '))\n",
    "# Report the result\n",
    "print(value/2)"
   ]
  },
  {
   "cell_type": "code",
   "execution_count": 39,
   "metadata": {},
   "outputs": [
    {
     "name": "stdout",
     "output_type": "stream",
     "text": [
      "3\n",
      "1\n"
     ]
    }
   ],
   "source": [
    "# Question: 3.10.18\n",
    "\n",
    "x1 = 2\n",
    "x2 = 2\n",
    "x1 += 1\n",
    "x2 -= 1\n",
    "print(x1)\n",
    "print(x2)"
   ]
  },
  {
   "cell_type": "code",
   "execution_count": null,
   "metadata": {
    "collapsed": true
   },
   "outputs": [],
   "source": []
  }
 ],
 "metadata": {
  "kernelspec": {
   "display_name": "Python 3",
   "language": "python",
   "name": "python3"
  },
  "language_info": {
   "codemirror_mode": {
    "name": "ipython",
    "version": 3
   },
   "file_extension": ".py",
   "mimetype": "text/x-python",
   "name": "python",
   "nbconvert_exporter": "python",
   "pygments_lexer": "ipython3",
   "version": "3.6.3"
  }
 },
 "nbformat": 4,
 "nbformat_minor": 2
}
